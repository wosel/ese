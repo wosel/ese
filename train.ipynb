{
 "cells": [
  {
   "cell_type": "markdown",
   "id": "regional-turning",
   "metadata": {},
   "source": [
    "### Train coupling localization - training notebook\n",
    "Run every cell once.\n"
   ]
  },
  {
   "cell_type": "code",
   "execution_count": null,
   "id": "suspected-dylan",
   "metadata": {},
   "outputs": [],
   "source": [
    "import cv2\n",
    "import json\n",
    "import numpy as np\n",
    "import matplotlib.pyplot as plt\n",
    "import random, os, time, copy, glob\n",
    "import imgaug as ia\n",
    "import imgaug.augmenters as iaa\n",
    "from imgaug.augmentables import Keypoint, KeypointsOnImage\n",
    "\n",
    "#from __future__ import print_function\n",
    "#from __future__ import division\n",
    "import torch\n",
    "import torch.nn as nn\n",
    "import torch.optim as optim\n",
    "import numpy as np\n",
    "import torchvision\n",
    "from torchvision import datasets, models, transforms\n",
    "import matplotlib.pyplot as plt\n",
    "print(\"PyTorch Version: \",torch.__version__)\n",
    "print(\"Torchvision Version: \",torchvision.__version__)\n",
    "\n",
    "from dataset import TrainCouplingDataset\n"
   ]
  },
  {
   "cell_type": "markdown",
   "id": "contemporary-beach",
   "metadata": {},
   "source": [
    "## ACTION REQUIRED\n",
    "\n",
    "In cell below, set values for variables below, especially for training / validation images and jsons!\n",
    "\n",
    "The training set has been separated into train and validation by suffix (jpg / jpeg) because all .jpeg files seem to be from a single camera not included in the other .jpg images. This should help generailzation by preventing overfitting to the limited set of cameras available (i. e. the model will overfit to the cameras in the trainset but should not overfit the validation camera, this way we can have a somewhat reasonable generalization (to other unseen cameras) performance estimate from the validation set) "
   ]
  },
  {
   "cell_type": "code",
   "execution_count": null,
   "id": "turned-sociology",
   "metadata": {},
   "outputs": [],
   "source": [
    "batch_size = 8\n",
    "num_epochs = 200\n",
    "\n",
    "# Replace with folders containing all of the training / validation images\n",
    "train_filelist = glob.glob('../car_coupling_train/*.jpg')\n",
    "val_filelist = glob.glob('../car_coupling_train/*.jpeg')\n",
    "# Replace with directory containing jsons for training / validation images. Expecting same filename as image, with extension replaced with .json\n",
    "train_root_dir = '../car_coupling_train/'\n",
    "val_root_dir = '../car_coupling_train/'\n",
    "\n",
    "ia.seed(42)\n",
    "torch.manual_seed(42)\n",
    "\n",
    "print(f'got {len(train_filelist)} training images and {len(val_filelist)} validation images')"
   ]
  },
  {
   "cell_type": "code",
   "execution_count": null,
   "id": "curious-words",
   "metadata": {},
   "outputs": [],
   "source": [
    "#Create datasets and dataloaders\n",
    "\n",
    "train_dset = TrainCouplingDataset(filename_list = train_filelist, root_dir=train_root_dir, mode='train')\n",
    "val_dset = TrainCouplingDataset(filename_list = val_filelist, root_dir=val_root_dir, mode='val')\n",
    "image_datasets = {\n",
    "    'train': train_dset,\n",
    "    'val': val_dset,\n",
    "}\n",
    "dataloaders_dict = {x: torch.utils.data.DataLoader(image_datasets[x], batch_size=batch_size, shuffle=True, num_workers=0) for x in ['train', 'val']}"
   ]
  },
  {
   "cell_type": "code",
   "execution_count": null,
   "id": "cardiac-department",
   "metadata": {},
   "outputs": [],
   "source": [
    "device = torch.device(\"cuda:0\" if torch.cuda.is_available() else \"cpu\")\n",
    "print(f'Torch device is {device}')"
   ]
  },
  {
   "cell_type": "markdown",
   "id": "peaceful-pillow",
   "metadata": {},
   "source": [
    "#### Data sanity check\n",
    "Cell below shows example image from training dataset including augmentations. This is the time to check it seems ok. Ypu can rerun it multiple times to see different augmentations of the same image"
   ]
  },
  {
   "cell_type": "code",
   "execution_count": null,
   "id": "dated-shade",
   "metadata": {
    "scrolled": false
   },
   "outputs": [],
   "source": [
    "_ = train_dset[0]\n",
    "_img = np.array(_['image'].permute(1, 2, 0).numpy(), dtype=np.uint8)\n",
    "plt.figure(figsize=(20, 20))\n",
    "plt.imshow(_img)"
   ]
  },
  {
   "cell_type": "code",
   "execution_count": null,
   "id": "painted-alert",
   "metadata": {
    "scrolled": true
   },
   "outputs": [],
   "source": [
    "# model setup\n",
    "\n",
    "model_ft = models.resnet18(pretrained=True)\n",
    "num_ftrs = model_ft.fc.in_features\n",
    "model_ft.fc = nn.Linear(num_ftrs, 2)\n",
    "model_ft.to(device)\n",
    "\n",
    "\n",
    "params_to_update = model_ft.parameters()\n",
    "\n",
    "for name,param in model_ft.named_parameters():\n",
    "    if param.requires_grad == True:\n",
    "        print(\"\\t\",name)\n",
    "\n",
    "# Observe that all parameters are being optimized\n",
    "optimizer_ft = optim.SGD(params_to_update, lr=0.001, momentum=0.9)\n",
    "criterion = nn.MSELoss()"
   ]
  },
  {
   "cell_type": "code",
   "execution_count": null,
   "id": "golden-thesaurus",
   "metadata": {},
   "outputs": [],
   "source": [
    "# This is the training loop itself. A lot of this code is courtesy of the Pytorch classification finetuning tutorial adapted for our purposes\n",
    "\n",
    "def train_model(model, dataloaders, criterion, optimizer, num_epochs=300):\n",
    "    since = time.time()\n",
    "\n",
    "    val_acc_history = []\n",
    "\n",
    "    best_model_wts = copy.deepcopy(model.state_dict())\n",
    "    best_loss = 100.\n",
    "\n",
    "    for epoch in range(num_epochs):\n",
    "        print('Epoch {}/{}'.format(epoch, num_epochs - 1))\n",
    "        print('-' * 10)\n",
    "\n",
    "        # Each epoch has a training and validation phase\n",
    "        for phase in ['train', 'val']:\n",
    "            if phase == 'train':\n",
    "                model.train()  # Set model to training mode\n",
    "            else:\n",
    "                model.eval()   # Set model to evaluate mode\n",
    "\n",
    "            running_loss = 0.0\n",
    "            running_corrects = 0\n",
    "\n",
    "            # Iterate over data\n",
    "            _dl_start = time.time()\n",
    "            for x in dataloaders[phase]:\n",
    "                inputs = x['image']\n",
    "                inputs = inputs.to(device)\n",
    "                labels = x['bbox']\n",
    "                labels = labels.to(device)\n",
    "\n",
    "                # zero the parameter gradients\n",
    "                optimizer.zero_grad()\n",
    "\n",
    "                # forward\n",
    "                # track history if only in train\n",
    "                with torch.set_grad_enabled(phase == 'train'):\n",
    "                    # Get model outputs and calculate loss\n",
    "             \n",
    "                    outputs = model(inputs)\n",
    "                    loss = criterion(outputs, labels)\n",
    "                    \n",
    "                    # backward + optimize only if in training phase\n",
    "                    if phase == 'train':\n",
    "                        loss.backward()\n",
    "                        optimizer.step()\n",
    "                        \n",
    "                # statistics\n",
    "                running_loss += loss.item() * inputs.size(0)\n",
    "\n",
    "            epoch_loss = running_loss / len(dataloaders[phase].dataset)\n",
    "\n",
    "            print('{} Loss: {:.4f}'.format(phase, epoch_loss))\n",
    "\n",
    "            # deep copy the model\n",
    "            if phase == 'val' and epoch_loss < best_loss:\n",
    "                best_loss = epoch_loss\n",
    "                best_model_wts = copy.deepcopy(model.state_dict())\n",
    "                \n",
    "            if phase == 'val':\n",
    "                val_acc_history.append(epoch_loss)\n",
    "\n",
    "    time_elapsed = time.time() - since\n",
    "    print('Training complete in {:.0f}m {:.0f}s'.format(time_elapsed // 60, time_elapsed % 60))\n",
    "    \n",
    "    # load best model weights\n",
    "    model.load_state_dict(best_model_wts)\n",
    "    return model, val_acc_history"
   ]
  },
  {
   "cell_type": "markdown",
   "id": "convenient-diana",
   "metadata": {},
   "source": [
    "### Cell below runs the actual training\n",
    "At the end model is saved to `$(pwd)/model_tmp.pth`.\n",
    "Also despite the augmentation the model still seems to overfit, as training data is limited. Playing around with learning rate has helped slightly, but validation set accuracy does vary between training runs (with different random seed)\n",
    "\n",
    "\n",
    "Below that cell are some visualisations of outputs"
   ]
  },
  {
   "cell_type": "code",
   "execution_count": null,
   "id": "genuine-wrestling",
   "metadata": {
    "scrolled": true
   },
   "outputs": [],
   "source": [
    "model_ft, hist = train_model(model_ft, dataloaders_dict, criterion, optimizer_ft, num_epochs=num_epochs)\n",
    "torch.save(model_ft.state_dict(), 'model_tmp.pth')\n"
   ]
  },
  {
   "cell_type": "code",
   "execution_count": null,
   "id": "excessive-runner",
   "metadata": {},
   "outputs": [],
   "source": [
    "se = 0.\n",
    "ctr = 0\n",
    "torch.save(model_ft.state_dict(), 'model_x2.pth')\n",
    "for idx in range(len(val_dset)):\n",
    "\n",
    "    res = model_ft(val_dset[idx]['image'].unsqueeze(0).to(device))[0].detach().cpu().numpy()\n",
    "    print(res)\n",
    "    gold = val_dset[idx]['bbox'].numpy() \n",
    "    print(gold)\n",
    "    \n",
    "    \n",
    "    \n",
    "    #se += (res - gold)**2 \n",
    "    ctr += 1\n",
    "    print()\n",
    "print(se/ctr)\n",
    "print(ctr)"
   ]
  },
  {
   "cell_type": "code",
   "execution_count": null,
   "id": "regional-supplement",
   "metadata": {
    "scrolled": false
   },
   "outputs": [],
   "source": [
    "model_loaded = models.resnet18(pretrained=True)\n",
    "#set_parameter_requires_grad(model_ft, feature_extract)\n",
    "num_ftrs = model_loaded.fc.in_features\n",
    "model_loaded.fc = nn.Linear(num_ftrs, 2)\n",
    "if device == 'cpu':\n",
    "    model_loaded.load_state_dict(torch.load('model_x2.pth'))\n",
    "else:\n",
    "    model_loaded.load_state_dict(torch.load('model_x2.pth', map_location=torch.device('cpu')))\n",
    "model_loaded.eval()\n",
    "model_loaded.to(device)\n",
    "\n",
    "#odel_loaded.to(device)\n",
    "\n",
    "\n",
    "for idx in range(len(val_dset)):\n",
    "\n",
    "    res = model_loaded(val_dset[idx]['image'].unsqueeze(0).to(device))[0].detach().cpu().numpy()\n",
    "    print(res)\n",
    "    gold = val_dset[idx]['bbox'].numpy() \n",
    "    print(gold)\n",
    "    \n",
    "    img = val_dset[idx]['image'].permute(1, 2, 0)\n",
    "    npi = np.array(img.numpy(), dtype = np.uint8)\n",
    "    res0_int = int(res[0] * img.shape[1])\n",
    "    gold0_int = int(gold[0] * img.shape[1])\n",
    "    res1_int = int(res[1] * img.shape[1])\n",
    "    gold1_int = int(gold[1] * img.shape[1])\n",
    "    \n",
    "    cv2.line(npi, (res0_int, 20), (res0_int, 420), (0, 0, 255), 2)\n",
    "    cv2.line(npi, (res1_int, 20), (res1_int, 420), (0, 0, 128), 2)\n",
    "    cv2.line(npi, (gold0_int, 20), (gold0_int, 420), (0, 255, 0), 2)\n",
    "    cv2.line(npi, (gold1_int, 20), (gold1_int, 420), (0, 128, 0), 2)\n",
    "    plt.figure(figsize=(20, 20))\n",
    "    plt.imshow(npi)\n",
    "    \n",
    "    \n",
    "    \n",
    "    \n",
    "    "
   ]
  },
  {
   "cell_type": "code",
   "execution_count": null,
   "id": "sealed-fence",
   "metadata": {
    "scrolled": false
   },
   "outputs": [],
   "source": [
    "\n",
    "ctr = 0\n",
    "for idx in range(len(train_dset)):\n",
    "\n",
    "    res = model_ft(train_dset[idx]['image'].unsqueeze(0).to(device))[0].detach().cpu().numpy()\n",
    "    print(res)\n",
    "    gold = train_dset[idx]['bbox'].numpy() \n",
    "    print(gold)\n",
    "    ctr += 1\n",
    "    img = train_dset[idx]['image'].permute(1, 2, 0)\n",
    "    npi = np.array(img.numpy(), dtype = np.uint8)\n",
    "    res0_int = int(res[0] * img.shape[1])\n",
    "    gold0_int = int(gold[0] * img.shape[1])\n",
    "    res1_int = int(res[1] * img.shape[1])\n",
    "    gold1_int = int(gold[1] * img.shape[1])\n",
    "    \n",
    "    cv2.line(npi, (res0_int, 20), (res0_int, 420), (0, 0, 255), 2)\n",
    "    cv2.line(npi, (res1_int, 20), (res1_int, 420), (0, 0, 128), 2)\n",
    "    cv2.line(npi, (gold0_int, 20), (gold0_int, 420), (0, 255, 0), 2)\n",
    "    cv2.line(npi, (gold1_int, 20), (gold1_int, 420), (0, 128, 0), 2)\n",
    "    plt.figure(figsize=(20, 20))\n",
    "    plt.imshow(npi)\n",
    "    \n",
    "    if ctr > 10:\n",
    "        break\n"
   ]
  },
  {
   "cell_type": "code",
   "execution_count": null,
   "id": "martial-morning",
   "metadata": {},
   "outputs": [],
   "source": [
    "}"
   ]
  }
 ],
 "metadata": {
  "kernelspec": {
   "display_name": "Python 3",
   "language": "python",
   "name": "python3"
  },
  "language_info": {
   "codemirror_mode": {
    "name": "ipython",
    "version": 3
   },
   "file_extension": ".py",
   "mimetype": "text/x-python",
   "name": "python",
   "nbconvert_exporter": "python",
   "pygments_lexer": "ipython3",
   "version": "3.8.2"
  }
 },
 "nbformat": 4,
 "nbformat_minor": 5
}
